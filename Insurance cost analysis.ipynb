{
 "cells": [
  {
   "cell_type": "markdown",
   "metadata": {},
   "source": [
    "# **Project: Insurance Cost Analysis**\n",
    "\n",
    "In this project, I perform analytics operations on an insurance database that uses the below mentioned parameters.\n",
    "\n",
    "\n",
    "| Parameter |Description| Content type |\n",
    "|---|----|---|\n",
    "|age| Age in years| integer |\n",
    "|gender| Male or Female|integer (1 or 2)|\n",
    "| bmi | Body mass index | float |\n",
    "|no_of_children| Number of children | integer|\n",
    "|smoker| Whether smoker or not | integer (0 or 1)|\n",
    "|region| Which US region - NW, NE, SW, SE | integer (1,2,3 or 4 respectively)| \n",
    "|charges| Annual Insurance charges in USD | float|"
   ]
  },
  {
   "cell_type": "markdown",
   "metadata": {},
   "source": [
    "Importing required libraries:\n",
    "\n"
   ]
  },
  {
   "cell_type": "code",
   "execution_count": 1,
   "metadata": {},
   "outputs": [],
   "source": [
    "import pandas as pd\n",
    "import matplotlib.pyplot as plt\n",
    "import numpy as np\n",
    "import seaborn as sns\n",
    "from sklearn.pipeline import Pipeline\n",
    "from sklearn.preprocessing import StandardScaler, PolynomialFeatures\n",
    "from sklearn.linear_model import LinearRegression, Ridge\n",
    "from sklearn.metrics import mean_squared_error, r2_score\n",
    "from sklearn.model_selection import cross_val_score, train_test_split\n",
    "\n"
   ]
  },
  {
   "cell_type": "markdown",
   "metadata": {},
   "source": [
    "## Part 1: Importing the dataset"
   ]
  },
  {
   "cell_type": "markdown",
   "metadata": {},
   "source": [
    "Loading the dataset into the dataframe:"
   ]
  },
  {
   "cell_type": "code",
   "execution_count": 2,
   "metadata": {},
   "outputs": [],
   "source": [
    "path = 'https://cf-courses-data.s3.us.cloud-object-storage.appdomain.cloud/IBMDeveloperSkillsNetwork-DA0101EN-Coursera/medical_insurance_dataset.csv'\n",
    "df = pd.read_csv(path, header=None)\n"
   ]
  },
  {
   "cell_type": "markdown",
   "metadata": {},
   "source": [
    "Printing the first 10 rows of data to confirm successful loading:"
   ]
  },
  {
   "cell_type": "code",
   "execution_count": 3,
   "metadata": {},
   "outputs": [
    {
     "name": "stdout",
     "output_type": "stream",
     "text": [
      "    0  1       2  3  4  5            6\n",
      "0  19  1  27.900  0  1  3  16884.92400\n",
      "1  18  2  33.770  1  0  4   1725.55230\n",
      "2  28  2  33.000  3  0  4   4449.46200\n",
      "3  33  2  22.705  0  0  1  21984.47061\n",
      "4  32  2  28.880  0  0  1   3866.85520\n",
      "5  31  1  25.740  0  ?  4   3756.62160\n",
      "6  46  1  33.440  1  0  4   8240.58960\n",
      "7  37  1  27.740  3  0  1   7281.50560\n",
      "8  37  2  29.830  2  0  2   6406.41070\n",
      "9  60  1  25.840  0  0  1  28923.13692\n"
     ]
    }
   ],
   "source": [
    "\n",
    "print(df.head(10))"
   ]
  },
  {
   "cell_type": "markdown",
   "metadata": {},
   "source": [
    "Adding headers to the dataframe:"
   ]
  },
  {
   "cell_type": "code",
   "execution_count": 4,
   "metadata": {},
   "outputs": [
    {
     "name": "stdout",
     "output_type": "stream",
     "text": [
      "  age  gender     bmi  no_of_children smoker  region      charges\n",
      "0  19       1  27.900               0      1       3  16884.92400\n",
      "1  18       2  33.770               1      0       4   1725.55230\n",
      "2  28       2  33.000               3      0       4   4449.46200\n",
      "3  33       2  22.705               0      0       1  21984.47061\n",
      "4  32       2  28.880               0      0       1   3866.85520\n",
      "5  31       1  25.740               0      ?       4   3756.62160\n",
      "6  46       1  33.440               1      0       4   8240.58960\n",
      "7  37       1  27.740               3      0       1   7281.50560\n",
      "8  37       2  29.830               2      0       2   6406.41070\n",
      "9  60       1  25.840               0      0       1  28923.13692\n"
     ]
    }
   ],
   "source": [
    "headers = [\"age\", \"gender\", \"bmi\", \"no_of_children\", \"smoker\", \"region\", \"charges\"]\n",
    "df.columns = headers\n",
    "print(df.head(10))"
   ]
  },
  {
   "cell_type": "markdown",
   "metadata": {},
   "source": [
    "Replacing the '?' entries to NaN values"
   ]
  },
  {
   "cell_type": "code",
   "execution_count": 5,
   "metadata": {},
   "outputs": [],
   "source": [
    "df.replace('?', np.nan, inplace = True)"
   ]
  },
  {
   "cell_type": "markdown",
   "metadata": {},
   "source": [
    "## Part two: Data Wrangling"
   ]
  },
  {
   "cell_type": "code",
   "execution_count": 6,
   "metadata": {},
   "outputs": [
    {
     "name": "stdout",
     "output_type": "stream",
     "text": [
      "<class 'pandas.core.frame.DataFrame'>\n",
      "RangeIndex: 2772 entries, 0 to 2771\n",
      "Data columns (total 7 columns):\n",
      " #   Column          Non-Null Count  Dtype  \n",
      "---  ------          --------------  -----  \n",
      " 0   age             2768 non-null   object \n",
      " 1   gender          2772 non-null   int64  \n",
      " 2   bmi             2772 non-null   float64\n",
      " 3   no_of_children  2772 non-null   int64  \n",
      " 4   smoker          2765 non-null   object \n",
      " 5   region          2772 non-null   int64  \n",
      " 6   charges         2772 non-null   float64\n",
      "dtypes: float64(2), int64(3), object(2)\n",
      "memory usage: 151.7+ KB\n"
     ]
    }
   ],
   "source": [
    "df.info()"
   ]
  },
  {
   "cell_type": "markdown",
   "metadata": {},
   "source": [
    "Replacing null values:"
   ]
  },
  {
   "cell_type": "code",
   "execution_count": 7,
   "metadata": {},
   "outputs": [
    {
     "name": "stdout",
     "output_type": "stream",
     "text": [
      "<class 'pandas.core.frame.DataFrame'>\n",
      "RangeIndex: 2772 entries, 0 to 2771\n",
      "Data columns (total 7 columns):\n",
      " #   Column          Non-Null Count  Dtype  \n",
      "---  ------          --------------  -----  \n",
      " 0   age             2772 non-null   int32  \n",
      " 1   gender          2772 non-null   int64  \n",
      " 2   bmi             2772 non-null   float64\n",
      " 3   no_of_children  2772 non-null   int64  \n",
      " 4   smoker          2772 non-null   int32  \n",
      " 5   region          2772 non-null   int64  \n",
      " 6   charges         2772 non-null   float64\n",
      "dtypes: float64(2), int32(2), int64(3)\n",
      "memory usage: 130.1 KB\n",
      "None\n"
     ]
    }
   ],
   "source": [
    "# smoker is a categorical attribute, replace with most frequent entry\n",
    "is_smoker = df['smoker'].value_counts().idxmax()\n",
    "df[\"smoker\"].replace(np.nan, is_smoker, inplace=True)\n",
    "\n",
    "# age is a continuous variable, replace with mean age\n",
    "mean_age = df['age'].astype('float').mean(axis=0)\n",
    "df[\"age\"].replace(np.nan, mean_age, inplace=True)\n",
    "\n",
    "# Update data types\n",
    "df[[\"age\",\"smoker\"]] = df[[\"age\",\"smoker\"]].astype(\"int\")\n",
    "\n",
    "# rounding the charges column\n",
    "df[[\"charges\"]] = np.round(df[[\"charges\"]],2)\n",
    "\n",
    "print(df.info())"
   ]
  },
  {
   "cell_type": "markdown",
   "metadata": {},
   "source": [
    "## Exploratory Data Analysis (EDA)"
   ]
  },
  {
   "cell_type": "markdown",
   "metadata": {},
   "source": [
    "Implementing the regression plot for charges with respect to bmi:"
   ]
  },
  {
   "cell_type": "code",
   "execution_count": 8,
   "metadata": {},
   "outputs": [
    {
     "data": {
      "text/plain": [
       "(0.0, 66902.85800000001)"
      ]
     },
     "execution_count": 8,
     "metadata": {},
     "output_type": "execute_result"
    },
    {
     "data": {
      "image/png": "[encoded data removed]",
      "text/plain": [
       "<Figure size 640x480 with 1 Axes>"
      ]
     },
     "metadata": {},
     "output_type": "display_data"
    }
   ],
   "source": [
    "sns.regplot(x=\"bmi\", y=\"charges\", data=df, line_kws={\"color\": \"red\"})\n",
    "plt.ylim(0,)"
   ]
  },
  {
   "cell_type": "markdown",
   "metadata": {},
   "source": [
    "Implementing the box plot for charges with respect to smoker:"
   ]
  },
  {
   "cell_type": "code",
   "execution_count": 9,
   "metadata": {},
   "outputs": [
    {
     "data": {
      "text/plain": [
       "<Axes: xlabel='smoker', ylabel='charges'>"
      ]
     },
     "execution_count": 9,
     "metadata": {},
     "output_type": "execute_result"
    },
    {
     "data": {
      "image/png": "[encoded data removed]",
      "text/plain": [
       "<Figure size 640x480 with 1 Axes>"
      ]
     },
     "metadata": {},
     "output_type": "display_data"
    }
   ],
   "source": [
    "sns.boxplot(x=\"smoker\", y=\"charges\", data=df)"
   ]
  },
  {
   "cell_type": "markdown",
   "metadata": {},
   "source": [
    "Printing the correlation matrix for the dataset:\n"
   ]
  },
  {
   "cell_type": "code",
   "execution_count": 10,
   "metadata": {},
   "outputs": [
    {
     "name": "stdout",
     "output_type": "stream",
     "text": [
      "                     age    gender       bmi  no_of_children    smoker  \\\n",
      "age             1.000000 -0.026046  0.113048        0.037574 -0.023286   \n",
      "gender         -0.026046  1.000000  0.042924        0.016020  0.082326   \n",
      "bmi             0.113048  0.042924  1.000000       -0.001492  0.011489   \n",
      "no_of_children  0.037574  0.016020 -0.001492        1.000000  0.006362   \n",
      "smoker         -0.023286  0.082326  0.011489        0.006362  1.000000   \n",
      "region         -0.007167  0.022213  0.271119       -0.025717  0.054077   \n",
      "charges         0.298624  0.062837  0.199846        0.066442  0.788783   \n",
      "\n",
      "                  region   charges  \n",
      "age            -0.007167  0.298624  \n",
      "gender          0.022213  0.062837  \n",
      "bmi             0.271119  0.199846  \n",
      "no_of_children -0.025717  0.066442  \n",
      "smoker          0.054077  0.788783  \n",
      "region          1.000000  0.054058  \n",
      "charges         0.054058  1.000000  \n"
     ]
    }
   ],
   "source": [
    "print(df.corr())"
   ]
  },
  {
   "cell_type": "markdown",
   "metadata": {},
   "source": [
    "# Task 4 : Model Development"
   ]
  },
  {
   "cell_type": "markdown",
   "metadata": {},
   "source": [
    "Fitting a linear regression model that may be used to predict the charges value, just by using the smoker attribute of the dataset. Print the R squared\n",
    " score of this model."
   ]
  },
  {
   "cell_type": "code",
   "execution_count": 11,
   "metadata": {},
   "outputs": [
    {
     "name": "stdout",
     "output_type": "stream",
     "text": [
      "0.6221791733924185\n"
     ]
    }
   ],
   "source": [
    "X = df[['smoker']]\n",
    "Y = df['charges']\n",
    "lm = LinearRegression()\n",
    "lm.fit(X,Y)\n",
    "print(lm.score(X, Y))"
   ]
  },
  {
   "cell_type": "markdown",
   "metadata": {},
   "source": [
    "Fitting a linear regression model that may be used to predict the charges value, just by using all other attributes of the dataset. Printing the \n",
    " score of this model. We can see an improvement in the performance."
   ]
  },
  {
   "cell_type": "code",
   "execution_count": 12,
   "metadata": {},
   "outputs": [
    {
     "name": "stdout",
     "output_type": "stream",
     "text": [
      "0.7504083820289634\n"
     ]
    }
   ],
   "source": [
    "# definition of Y and lm remain same as used in last cell. \n",
    "Z = df[[\"age\", \"gender\", \"bmi\", \"no_of_children\", \"smoker\", \"region\"]]\n",
    "lm.fit(Z,Y)\n",
    "print(lm.score(Z, Y))"
   ]
  },
  {
   "cell_type": "markdown",
   "metadata": {},
   "source": [
    "Creating a training pipeline that uses StandardScaler(), PolynomialFeatures() and LinearRegression() to create a model that can predict the charges value using all the other attributes of the dataset. There should be even further improvement in the performance"
   ]
  },
  {
   "cell_type": "code",
   "execution_count": 13,
   "metadata": {},
   "outputs": [
    {
     "name": "stdout",
     "output_type": "stream",
     "text": [
      "0.8450466807031618\n"
     ]
    }
   ],
   "source": [
    "Input=[('scale',StandardScaler()), ('polynomial', PolynomialFeatures(include_bias=False)), ('model', LinearRegression())]\n",
    "pipe=Pipeline(Input)\n",
    "Z = Z.astype(float)\n",
    "pipe.fit(Z,Y)\n",
    "ypipe=pipe.predict(Z)\n",
    "print(r2_score(Y,ypipe))"
   ]
  },
  {
   "cell_type": "markdown",
   "metadata": {},
   "source": [
    "# Task 5: Model Refinement\n",
    "\n",
    "Splitting the data into training and testing subsets."
   ]
  },
  {
   "cell_type": "code",
   "execution_count": 14,
   "metadata": {},
   "outputs": [],
   "source": [
    "x_train, x_test, y_train, y_test = train_test_split(Z, Y, test_size=0.2, random_state=1)"
   ]
  },
  {
   "cell_type": "markdown",
   "metadata": {},
   "source": [
    "Initializing a Ridge regressor that used hyperparameter. Fitting the model using training data data subset. "
   ]
  },
  {
   "cell_type": "code",
   "execution_count": 15,
   "metadata": {},
   "outputs": [
    {
     "name": "stdout",
     "output_type": "stream",
     "text": [
      "0.6760807731582406\n"
     ]
    }
   ],
   "source": [
    "RidgeModel=Ridge(alpha=0.1)\n",
    "RidgeModel.fit(x_train, y_train)\n",
    "yhat = RidgeModel.predict(x_test)\n",
    "print(r2_score(y_test,yhat))"
   ]
  },
  {
   "cell_type": "markdown",
   "metadata": {},
   "source": [
    "Applying polynomial transformation to the training parameters with degree=2. Using this transformed feature set to fit the same regression model, as above, using the training subset and then printing the r square score for the testing subset."
   ]
  },
  {
   "cell_type": "code",
   "execution_count": 16,
   "metadata": {},
   "outputs": [
    {
     "name": "stdout",
     "output_type": "stream",
     "text": [
      "0.7835631107608061\n"
     ]
    }
   ],
   "source": [
    "pr = PolynomialFeatures(degree=2)\n",
    "x_train_pr = pr.fit_transform(x_train)\n",
    "x_test_pr = pr.fit_transform(x_test)\n",
    "RidgeModel.fit(x_train_pr, y_train)\n",
    "y_hat = RidgeModel.predict(x_test_pr)\n",
    "print(r2_score(y_test,y_hat))"
   ]
  }
 ],
 "metadata": {
  "kernelspec": {
   "display_name": "base",
   "language": "python",
   "name": "python3"
  },
  "language_info": {
   "codemirror_mode": {
    "name": "ipython",
    "version": 3
   },
   "file_extension": ".py",
   "mimetype": "text/x-python",
   "name": "python",
   "nbconvert_exporter": "python",
   "pygments_lexer": "ipython3",
   "version": "3.11.5"
  }
 },
 "nbformat": 4,
 "nbformat_minor": 2
}
